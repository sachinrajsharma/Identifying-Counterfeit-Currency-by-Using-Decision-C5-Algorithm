{
 "cells": [
  {
   "cell_type": "markdown",
   "metadata": {},
   "source": [
    "# STEP 1 : Importing Libraries "
   ]
  },
  {
   "cell_type": "code",
   "execution_count": null,
   "metadata": {},
   "outputs": [],
   "source": [
    "library(naniar)\n",
    "library(tidyverse)\n",
    "library(corrplot)\n",
    "library(dplyr)\n",
    "library(ggplot2)\n",
    "library(caTools)\n",
    "library(modelr)\n",
    "library(ggcorrplot)\n",
    "\n",
    "library(broom)\n",
    "\n",
    "install.packages(\"mclust\")\n",
    "library(mclust)"
   ]
  },
  {
   "cell_type": "markdown",
   "metadata": {},
   "source": [
    "# STEP 2 : Importing Data "
   ]
  },
  {
   "cell_type": "code",
   "execution_count": null,
   "metadata": {},
   "outputs": [],
   "source": [
    "data(\"banknote\")\n",
    "head(banknote)"
   ]
  },
  {
   "cell_type": "markdown",
   "metadata": {},
   "source": [
    "# STEP 3 : Checking whether there is any missing values in data by Ploting using naniar() library "
   ]
  },
  {
   "cell_type": "code",
   "execution_count": null,
   "metadata": {},
   "outputs": [],
   "source": [
    "vis_miss(banknote)\n",
    "\n",
    "data (\"banknote\")\n",
    "head ( banknote )\n",
    "vis_miss(banknote)\n",
    "tail(banknote)\n",
    "\n"
   ]
  },
  {
   "cell_type": "markdown",
   "metadata": {},
   "source": [
    "# STEP 4 : Converting status as numeric to visualizing the correlation between all factors "
   ]
  },
  {
   "cell_type": "code",
   "execution_count": null,
   "metadata": {},
   "outputs": [],
   "source": [
    "\n",
    "banknote$Status <- factor(banknote$Status, levels=c('genuine','counterfeit'), labels=c(0,1))\n",
    "\n",
    "banknote$Status <- as.character(banknote$Status)\n",
    "banknote$Status <- as.numeric(banknote$Status)\n",
    "\n",
    "str(banknote)\n"
   ]
  },
  {
   "cell_type": "markdown",
   "metadata": {},
   "source": [
    "# STEP 5 : Visualising the correlation between datasets "
   ]
  },
  {
   "cell_type": "code",
   "execution_count": null,
   "metadata": {},
   "outputs": [],
   "source": [
    "r <- cor(banknote, use=\"complete.obs\")\n",
    "round(r,2)\n",
    "\n",
    "# It provides a solution for reordering the correlation matrix and displays the significance level on the correlogram.\n",
    "#It includes also a function for computing a matrix of correlation p-value\n",
    "\n",
    "ggcorrplot(r)\n",
    "\n",
    "ggcorrplot(r, hc.order = TRUE, type = \"lower\",\n",
    "           outline.col = \"white\",\n",
    "           ggtheme = ggplot2::theme_gray,\n",
    "           colors = c(\"#6D9EC1\", \"white\", \"#E46726\"))\n"
   ]
  },
  {
   "cell_type": "markdown",
   "metadata": {},
   "source": [
    "# STEP 6 : Spliting data into training set and test set "
   ]
  },
  {
   "cell_type": "code",
   "execution_count": null,
   "metadata": {},
   "outputs": [],
   "source": [
    "\n",
    "split = sample.split(banknote$Status, SplitRatio = 0.70)\n",
    "\n",
    "train_set = subset(banknote, split ==TRUE)\n",
    "test_set = subset(banknote, split ==FALSE)\n",
    "str(train_set)\n",
    "\n",
    "train_set$Status <- as.factor(train_set$Status)# Converting Status column into factors \n",
    "head(train_set)\n",
    "\n"
   ]
  },
  {
   "cell_type": "markdown",
   "metadata": {},
   "source": [
    "# Step   7 -   Train   Model  using  Train  Set"
   ]
  },
  {
   "cell_type": "code",
   "execution_count": null,
   "metadata": {},
   "outputs": [],
   "source": [
    "\n",
    "library (C50)\n",
    "head(train_set)\n",
    "\n",
    "\n",
    "install.packages(\"C50\")\n",
    "fitc <-  C5.0(Status ~. , data = train_set )\n",
    "\n"
   ]
  },
  {
   "cell_type": "markdown",
   "metadata": {},
   "source": [
    "# STEP 8 : Plotting the decision tree "
   ]
  },
  {
   "cell_type": "code",
   "execution_count": null,
   "metadata": {},
   "outputs": [],
   "source": [
    "\n",
    "\n",
    "plot(fitc)\n"
   ]
  },
  {
   "cell_type": "markdown",
   "metadata": {},
   "source": [
    "# STEP 9 : Viewing   rules of the result "
   ]
  },
  {
   "cell_type": "code",
   "execution_count": null,
   "metadata": {},
   "outputs": [],
   "source": [
    "fitc_rules <- C5.0(Status ~., data = train_set, rules = TRUE)\n",
    "summary(fitc_rules)\n"
   ]
  },
  {
   "cell_type": "markdown",
   "metadata": {},
   "source": [
    "# STEP 10 : Evaluating the model performance "
   ]
  },
  {
   "cell_type": "code",
   "execution_count": null,
   "metadata": {},
   "outputs": [],
   "source": [
    "predict_train <-predict(fitc,newdata = train_set, type =  \"class\") \n",
    "head(predict_train)\n"
   ]
  },
  {
   "cell_type": "markdown",
   "metadata": {},
   "source": [
    "\n",
    "# STEP 11 : Making confusion matrix \n"
   ]
  },
  {
   "cell_type": "code",
   "execution_count": null,
   "metadata": {},
   "outputs": [],
   "source": [
    "\n",
    "cm = table(train_set [ , 1], predict_train)\n",
    "cm\n"
   ]
  },
  {
   "cell_type": "markdown",
   "metadata": {},
   "source": [
    "# STEP 12 : Now making table of confusion matrix with dimension names : "
   ]
  },
  {
   "cell_type": "code",
   "execution_count": null,
   "metadata": {},
   "outputs": [],
   "source": [
    "\n",
    "table(train_set [ , 1], predict_train , dnn =c(\"Observed Class\",\"Predicted Class\"))\n"
   ]
  },
  {
   "cell_type": "markdown",
   "metadata": {},
   "source": [
    "# STEP 13 : Now checking test set results : "
   ]
  },
  {
   "cell_type": "code",
   "execution_count": null,
   "metadata": {},
   "outputs": [],
   "source": [
    "predict_test <-predict(fitc,newdata = test_set, type =  \"class\") \n",
    "head(predict_test)\n"
   ]
  },
  {
   "cell_type": "markdown",
   "metadata": {},
   "source": [
    "# STEP 14 : Now making table of confusion matrix : "
   ]
  },
  {
   "cell_type": "code",
   "execution_count": null,
   "metadata": {},
   "outputs": [],
   "source": [
    "table(test_set [ , 1], predict_test , dnn =c(\"Observed Class\",\"Predicted Class\"))\n",
    "\n",
    "\n",
    "\n",
    "```"
   ]
  },
  {
   "cell_type": "markdown",
   "metadata": {},
   "source": [
    "# CONCLUSION : here we have 100% accuracy on the test set "
   ]
  }
 ],
 "metadata": {
  "kernelspec": {
   "display_name": "Python 3",
   "language": "python",
   "name": "python3"
  },
  "language_info": {
   "codemirror_mode": {
    "name": "ipython",
    "version": 3
   },
   "file_extension": ".py",
   "mimetype": "text/x-python",
   "name": "python",
   "nbconvert_exporter": "python",
   "pygments_lexer": "ipython3",
   "version": "3.8.5"
  }
 },
 "nbformat": 4,
 "nbformat_minor": 4
}
